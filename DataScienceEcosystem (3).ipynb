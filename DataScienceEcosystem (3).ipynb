{
 "cells": [
  {
   "cell_type": "markdown",
   "id": "df3f7bb9-e55b-4d7c-ba31-1a776fb99bae",
   "metadata": {},
   "source": [
    "## Autor ##\n",
    "Pauu "
   ]
  },
  {
   "cell_type": "markdown",
   "id": "c988c35a-fd82-42c5-9c44-6480ad3f108b",
   "metadata": {},
   "source": [
    "# Data Science Tools and Ecosystem "
   ]
  },
  {
   "cell_type": "markdown",
   "id": "847128a5-74e3-43a9-a391-0f1220f9b3d3",
   "metadata": {},
   "source": [
    "#### En este cuaderno, se resumen las herramientas y ecosistemas de ciencia de datos."
   ]
  },
  {
   "cell_type": "markdown",
   "id": "1bd74512-478b-43f9-bfa8-87fa0a0808df",
   "metadata": {},
   "source": [
    "**Objetivos:**\n",
    " Elementos clave para la ciencia de datos\n",
    "\n",
    "* Herramientas populares            \n",
    "* Lenguajes populares               \n",
    "* Bibliotecas comunmente usadas        "
   ]
  },
  {
   "cell_type": "markdown",
   "id": "3619f887-f8e5-4e21-a325-b6205bc0edc6",
   "metadata": {},
   "source": [
    "#### Algunos de los lenguajes populares que utilizan los científicos de datos son:\n",
    "\n",
    "\n",
    "1. Python           \n",
    "2. R                \n",
    "3. Julia            \n",
    "4. SQL              "
   ]
  },
  {
   "cell_type": "markdown",
   "id": "b626c124-d684-4ffa-bf60-f8ae160ee2e2",
   "metadata": {},
   "source": [
    "#### Algunas de las bibliotecas comúnmente utilizadas por los científicos de datos incluyen:\n",
    "\n",
    "1. Pandas            \n",
    "2. Numpy             \n",
    "3. Matplotlib        \n",
    "4. Tensorflow                         \n",
    "                     \n"
   ]
  },
  {
   "cell_type": "markdown",
   "id": "80d7829e-b45a-4119-95db-2868de139b35",
   "metadata": {},
   "source": [
    "|Herramientas de la ciencia de datos|\n",
    "|-----------------------------------|\n",
    "|Jupyter notebooks                  |\n",
    "|Git                                |\n",
    "|Visual studio code                 |"
   ]
  },
  {
   "cell_type": "markdown",
   "id": "b99f2a5d-3ac7-4518-a324-92921ac87e96",
   "metadata": {},
   "source": [
    "### A continuación, se presentan algunos ejemplos de evaluación de expresiones aritméticas en Python."
   ]
  },
  {
   "cell_type": "code",
   "execution_count": 3,
   "id": "ef8fb7c8-3310-4816-9054-e27d7d3d0c29",
   "metadata": {},
   "outputs": [
    {
     "data": {
      "text/plain": [
       "17"
      ]
     },
     "execution_count": 3,
     "metadata": {},
     "output_type": "execute_result"
    }
   ],
   "source": [
    "#Esta es una expresion aritmetica simple para sumar y multiplicar enteros:\n",
    "(3*4)+5"
   ]
  },
  {
   "cell_type": "code",
   "execution_count": 4,
   "id": "cc7278d3-637d-4de1-8ef7-451558a3eaed",
   "metadata": {},
   "outputs": [
    {
     "name": "stdout",
     "output_type": "stream",
     "text": [
      "3.3333333333333335 horas \n"
     ]
    }
   ],
   "source": [
    "#Esto convertirá 200 minutos a horas dividiendo por 60:\n",
    "Conversion= 200/60\n",
    "print(Conversion, \"horas \")"
   ]
  },
  {
   "cell_type": "code",
   "execution_count": null,
   "id": "4b32ae81-81c1-4020-b8e4-bb86eef587ac",
   "metadata": {},
   "outputs": [],
   "source": []
  }
 ],
 "metadata": {
  "kernelspec": {
   "display_name": "Python 3 (ipykernel)",
   "language": "python",
   "name": "python3"
  },
  "language_info": {
   "codemirror_mode": {
    "name": "ipython",
    "version": 3
   },
   "file_extension": ".py",
   "mimetype": "text/x-python",
   "name": "python",
   "nbconvert_exporter": "python",
   "pygments_lexer": "ipython3",
   "version": "3.12.8"
  }
 },
 "nbformat": 4,
 "nbformat_minor": 5
}
